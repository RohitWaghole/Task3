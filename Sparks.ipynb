{
 "cells": [
  {
   "cell_type": "code",
   "execution_count": 124,
   "id": "a7e3f2f0",
   "metadata": {},
   "outputs": [
    {
     "name": "stdout",
     "output_type": "stream",
     "text": [
      "pyspark is working\n"
     ]
    }
   ],
   "source": [
    "import pyspark\n",
    "\n",
    "print(\"pyspark is working\")"
   ]
  },
  {
   "cell_type": "code",
   "execution_count": 125,
   "id": "d47b9677",
   "metadata": {},
   "outputs": [
    {
     "data": {
      "text/html": [
       "<div>\n",
       "<style scoped>\n",
       "    .dataframe tbody tr th:only-of-type {\n",
       "        vertical-align: middle;\n",
       "    }\n",
       "\n",
       "    .dataframe tbody tr th {\n",
       "        vertical-align: top;\n",
       "    }\n",
       "\n",
       "    .dataframe thead th {\n",
       "        text-align: right;\n",
       "    }\n",
       "</style>\n",
       "<table border=\"1\" class=\"dataframe\">\n",
       "  <thead>\n",
       "    <tr style=\"text-align: right;\">\n",
       "      <th></th>\n",
       "      <th>name</th>\n",
       "      <th>age</th>\n",
       "      <th>roll_no</th>\n",
       "      <th>marks</th>\n",
       "    </tr>\n",
       "  </thead>\n",
       "  <tbody>\n",
       "    <tr>\n",
       "      <th>0</th>\n",
       "      <td>rohit</td>\n",
       "      <td>322.0</td>\n",
       "      <td>1</td>\n",
       "      <td>90</td>\n",
       "    </tr>\n",
       "    <tr>\n",
       "      <th>1</th>\n",
       "      <td>rutuja</td>\n",
       "      <td>4521.0</td>\n",
       "      <td>2</td>\n",
       "      <td>499</td>\n",
       "    </tr>\n",
       "    <tr>\n",
       "      <th>2</th>\n",
       "      <td>rajveer</td>\n",
       "      <td>314.0</td>\n",
       "      <td>343</td>\n",
       "      <td>1300</td>\n",
       "    </tr>\n",
       "    <tr>\n",
       "      <th>3</th>\n",
       "      <td>suraj</td>\n",
       "      <td>32420.0</td>\n",
       "      <td>64</td>\n",
       "      <td>490</td>\n",
       "    </tr>\n",
       "    <tr>\n",
       "      <th>4</th>\n",
       "      <td>aldsj</td>\n",
       "      <td>NaN</td>\n",
       "      <td>25</td>\n",
       "      <td>4433</td>\n",
       "    </tr>\n",
       "    <tr>\n",
       "      <th>5</th>\n",
       "      <td>NaN</td>\n",
       "      <td>NaN</td>\n",
       "      <td>66</td>\n",
       "      <td>89</td>\n",
       "    </tr>\n",
       "    <tr>\n",
       "      <th>6</th>\n",
       "      <td>rohit</td>\n",
       "      <td>2322.0</td>\n",
       "      <td>21</td>\n",
       "      <td>90</td>\n",
       "    </tr>\n",
       "    <tr>\n",
       "      <th>7</th>\n",
       "      <td>rutuja</td>\n",
       "      <td>23421.0</td>\n",
       "      <td>242</td>\n",
       "      <td>3499</td>\n",
       "    </tr>\n",
       "    <tr>\n",
       "      <th>8</th>\n",
       "      <td>rajveer</td>\n",
       "      <td>3414.0</td>\n",
       "      <td>33</td>\n",
       "      <td>100</td>\n",
       "    </tr>\n",
       "    <tr>\n",
       "      <th>9</th>\n",
       "      <td>suraj</td>\n",
       "      <td>463.0</td>\n",
       "      <td>34</td>\n",
       "      <td>90</td>\n",
       "    </tr>\n",
       "    <tr>\n",
       "      <th>10</th>\n",
       "      <td>aldsj</td>\n",
       "      <td>NaN</td>\n",
       "      <td>5</td>\n",
       "      <td>33</td>\n",
       "    </tr>\n",
       "    <tr>\n",
       "      <th>11</th>\n",
       "      <td>NaN</td>\n",
       "      <td>NaN</td>\n",
       "      <td>44</td>\n",
       "      <td>23</td>\n",
       "    </tr>\n",
       "  </tbody>\n",
       "</table>\n",
       "</div>"
      ],
      "text/plain": [
       "       name      age  roll_no  marks\n",
       "0     rohit    322.0        1     90\n",
       "1    rutuja   4521.0        2    499\n",
       "2   rajveer    314.0      343   1300\n",
       "3     suraj  32420.0       64    490\n",
       "4     aldsj      NaN       25   4433\n",
       "5       NaN      NaN       66     89\n",
       "6     rohit   2322.0       21     90\n",
       "7    rutuja  23421.0      242   3499\n",
       "8   rajveer   3414.0       33    100\n",
       "9     suraj    463.0       34     90\n",
       "10    aldsj      NaN        5     33\n",
       "11      NaN      NaN       44     23"
      ]
     },
     "execution_count": 125,
     "metadata": {},
     "output_type": "execute_result"
    }
   ],
   "source": [
    "import pandas as pd\n",
    "\n",
    "pd.read_csv('../together.csv')\n",
    "\n"
   ]
  },
  {
   "cell_type": "markdown",
   "id": "ab9639ab",
   "metadata": {},
   "source": [
    "# PYSPARK SESSION"
   ]
  },
  {
   "cell_type": "code",
   "execution_count": 126,
   "id": "fc89867d",
   "metadata": {},
   "outputs": [],
   "source": [
    "from pyspark.sql import SparkSession"
   ]
  },
  {
   "cell_type": "code",
   "execution_count": 127,
   "id": "3106e86a",
   "metadata": {},
   "outputs": [],
   "source": [
    "# CREATE A SPARK SESSION\n",
    "\n",
    "spark = SparkSession.builder.appName('Practice').getOrCreate()\n",
    "\n",
    "print(\"Session created\")"
   ]
  },
  {
   "cell_type": "code",
   "execution_count": 128,
   "id": "83961ef3",
   "metadata": {},
   "outputs": [
    {
     "data": {
      "text/html": [
       "\n",
       "            <div>\n",
       "                <p><b>SparkSession - in-memory</b></p>\n",
       "                \n",
       "        <div>\n",
       "            <p><b>SparkContext</b></p>\n",
       "\n",
       "            <p><a href=\"http://DESKTOP-PT4JCPL:4040\">Spark UI</a></p>\n",
       "\n",
       "            <dl>\n",
       "              <dt>Version</dt>\n",
       "                <dd><code>v3.3.2</code></dd>\n",
       "              <dt>Master</dt>\n",
       "                <dd><code>local[*]</code></dd>\n",
       "              <dt>AppName</dt>\n",
       "                <dd><code>Practice</code></dd>\n",
       "            </dl>\n",
       "        </div>\n",
       "        \n",
       "            </div>\n",
       "        "
      ],
      "text/plain": [
       "<pyspark.sql.session.SparkSession at 0x1e533f16b00>"
      ]
     },
     "execution_count": 128,
     "metadata": {},
     "output_type": "execute_result"
    }
   ],
   "source": [
    "# GET THE SPARK OBJECT INFORMATION\n",
    "\n",
    "spark"
   ]
  },
  {
   "cell_type": "markdown",
   "id": "15f3851d",
   "metadata": {},
   "source": [
    "# OPERATIONS ON DATAFRAME"
   ]
  },
  {
   "cell_type": "code",
   "execution_count": 129,
   "id": "bb23851d",
   "metadata": {},
   "outputs": [
    {
     "name": "stdout",
     "output_type": "stream",
     "text": [
      "+-------+-----+-------+-----+\n",
      "|    _c0|  _c1|    _c2|  _c3|\n",
      "+-------+-----+-------+-----+\n",
      "|   name|  age|roll_no|marks|\n",
      "|  rohit|  322|      1|   90|\n",
      "| rutuja| 4521|      2|  499|\n",
      "|rajveer|  314|    343| 1300|\n",
      "|  suraj|32420|     64|  490|\n",
      "|  aldsj| null|     25| 4433|\n",
      "|   null| null|     66|   89|\n",
      "|  rohit| 2322|     21|   90|\n",
      "| rutuja|23421|    242| 3499|\n",
      "|rajveer| 3414|     33|  100|\n",
      "|  suraj|  463|     34|   90|\n",
      "|  aldsj| null|      5|   33|\n",
      "|   null| null|     44|   23|\n",
      "+-------+-----+-------+-----+\n",
      "\n"
     ]
    }
   ],
   "source": [
    "# MAKE A DATAFRAME OF A CSV FILE\n",
    "\n",
    "df_pyspark = spark.read.csv('../together.csv')\n",
    "\n",
    "df_pyspark.show()"
   ]
  },
  {
   "cell_type": "code",
   "execution_count": 130,
   "id": "9dcabd03",
   "metadata": {},
   "outputs": [
    {
     "name": "stdout",
     "output_type": "stream",
     "text": [
      "+-------+-----+-------+-----+\n",
      "|   name|  age|roll_no|marks|\n",
      "+-------+-----+-------+-----+\n",
      "|  rohit|  322|      1|   90|\n",
      "| rutuja| 4521|      2|  499|\n",
      "|rajveer|  314|    343| 1300|\n",
      "|  suraj|32420|     64|  490|\n",
      "|  aldsj| null|     25| 4433|\n",
      "|   null| null|     66|   89|\n",
      "|  rohit| 2322|     21|   90|\n",
      "| rutuja|23421|    242| 3499|\n",
      "|rajveer| 3414|     33|  100|\n",
      "|  suraj|  463|     34|   90|\n",
      "|  aldsj| null|      5|   33|\n",
      "|   null| null|     44|   23|\n",
      "+-------+-----+-------+-----+\n",
      "\n"
     ]
    }
   ],
   "source": [
    "# CREATING NEW DATAFRAME THAT CAN SHOW PROPER HEADING\n",
    "# inferSchema=True will give all the table headings respective datatype, otherwise will assign everything as string datatype\n",
    "\n",
    "dataframe = spark.read.option('header','true').csv('../together.csv', inferSchema=True)\n",
    "\n",
    "dataframe.show()"
   ]
  },
  {
   "cell_type": "code",
   "execution_count": 131,
   "id": "b48d6f89",
   "metadata": {},
   "outputs": [
    {
     "data": {
      "text/plain": [
       "pyspark.sql.dataframe.DataFrame"
      ]
     },
     "execution_count": 131,
     "metadata": {},
     "output_type": "execute_result"
    }
   ],
   "source": [
    "# GET TYPE OF THE DATAFRAME\n",
    "\n",
    "type(dataframe)"
   ]
  },
  {
   "cell_type": "code",
   "execution_count": 132,
   "id": "e7605daa",
   "metadata": {},
   "outputs": [
    {
     "data": {
      "text/plain": [
       "[Row(name='rohit', age=322, roll_no=1, marks=90),\n",
       " Row(name='rutuja', age=4521, roll_no=2, marks=499),\n",
       " Row(name='rajveer', age=314, roll_no=343, marks=1300)]"
      ]
     },
     "execution_count": 132,
     "metadata": {},
     "output_type": "execute_result"
    }
   ],
   "source": [
    "# GET THE FIRST N ELEMENTS FROM THE DATAFRAME\n",
    "\n",
    "dataframe.head(3)"
   ]
  },
  {
   "cell_type": "code",
   "execution_count": 133,
   "id": "5081dce0",
   "metadata": {},
   "outputs": [
    {
     "name": "stdout",
     "output_type": "stream",
     "text": [
      "root\n",
      " |-- name: string (nullable = true)\n",
      " |-- age: integer (nullable = true)\n",
      " |-- roll_no: integer (nullable = true)\n",
      " |-- marks: integer (nullable = true)\n",
      "\n"
     ]
    }
   ],
   "source": [
    "# GET THE SCHEMA OF THE DATAFRAME\n",
    "\n",
    "dataframe.printSchema()"
   ]
  },
  {
   "cell_type": "code",
   "execution_count": 134,
   "id": "8cbb1941",
   "metadata": {},
   "outputs": [
    {
     "name": "stdout",
     "output_type": "stream",
     "text": [
      "+-------+-----+-------+-----+\n",
      "|   name|  age|roll_no|marks|\n",
      "+-------+-----+-------+-----+\n",
      "|  rohit|  322|      1|   90|\n",
      "| rutuja| 4521|      2|  499|\n",
      "|rajveer|  314|    343| 1300|\n",
      "|  suraj|32420|     64|  490|\n",
      "|  aldsj| null|     25| 4433|\n",
      "|   null| null|     66|   89|\n",
      "|  rohit| 2322|     21|   90|\n",
      "| rutuja|23421|    242| 3499|\n",
      "|rajveer| 3414|     33|  100|\n",
      "|  suraj|  463|     34|   90|\n",
      "|  aldsj| null|      5|   33|\n",
      "|   null| null|     44|   23|\n",
      "+-------+-----+-------+-----+\n",
      "\n"
     ]
    }
   ],
   "source": [
    " # ANOTHER TYPE TO READ THE CSV FILE\n",
    "    \n",
    "dataframe = spark.read.csv('../together.csv', header=True, inferSchema=True)\n",
    "\n",
    "dataframe.show()"
   ]
  },
  {
   "cell_type": "code",
   "execution_count": 135,
   "id": "5c94077b",
   "metadata": {},
   "outputs": [
    {
     "data": {
      "text/plain": [
       "['name', 'age', 'roll_no', 'marks']"
      ]
     },
     "execution_count": 135,
     "metadata": {},
     "output_type": "execute_result"
    }
   ],
   "source": [
    "# GET THE COLUMN NAMES\n",
    "\n",
    "dataframe.columns"
   ]
  },
  {
   "cell_type": "code",
   "execution_count": 136,
   "id": "f7c05437",
   "metadata": {},
   "outputs": [
    {
     "name": "stdout",
     "output_type": "stream",
     "text": [
      "+-------+\n",
      "|   name|\n",
      "+-------+\n",
      "|  rohit|\n",
      "| rutuja|\n",
      "|rajveer|\n",
      "|  suraj|\n",
      "|  aldsj|\n",
      "|   null|\n",
      "|  rohit|\n",
      "| rutuja|\n",
      "|rajveer|\n",
      "|  suraj|\n",
      "|  aldsj|\n",
      "|   null|\n",
      "+-------+\n",
      "\n"
     ]
    }
   ],
   "source": [
    "# GET PERTICULAR COLUMN\n",
    "\n",
    "dataframe.select('name').show()"
   ]
  },
  {
   "cell_type": "code",
   "execution_count": 137,
   "id": "3fa4033a",
   "metadata": {},
   "outputs": [
    {
     "name": "stdout",
     "output_type": "stream",
     "text": [
      "+-------+-----+\n",
      "|   name|  age|\n",
      "+-------+-----+\n",
      "|  rohit|  322|\n",
      "| rutuja| 4521|\n",
      "|rajveer|  314|\n",
      "|  suraj|32420|\n",
      "|  aldsj| null|\n",
      "|   null| null|\n",
      "|  rohit| 2322|\n",
      "| rutuja|23421|\n",
      "|rajveer| 3414|\n",
      "|  suraj|  463|\n",
      "|  aldsj| null|\n",
      "|   null| null|\n",
      "+-------+-----+\n",
      "\n"
     ]
    }
   ],
   "source": [
    "# GET MULTIPLE COLUMNS\n",
    "\n",
    "dataframe.select(['name', 'age']).show()"
   ]
  },
  {
   "cell_type": "code",
   "execution_count": 138,
   "id": "8353a96e",
   "metadata": {},
   "outputs": [
    {
     "data": {
      "text/plain": [
       "[('name', 'string'), ('age', 'int'), ('roll_no', 'int'), ('marks', 'int')]"
      ]
     },
     "execution_count": 138,
     "metadata": {},
     "output_type": "execute_result"
    }
   ],
   "source": [
    "# GET DATA TYPES OF COLUMNS\n",
    "\n",
    "dataframe.dtypes"
   ]
  },
  {
   "cell_type": "code",
   "execution_count": 139,
   "id": "df5e9da1",
   "metadata": {},
   "outputs": [
    {
     "name": "stdout",
     "output_type": "stream",
     "text": [
      "+-------+-----+-----------------+------------------+-----------------+\n",
      "|summary| name|              age|           roll_no|            marks|\n",
      "+-------+-----+-----------------+------------------+-----------------+\n",
      "|  count|   10|                8|                12|               12|\n",
      "|   mean| null|         8399.625| 73.33333333333333|894.6666666666666|\n",
      "| stddev| null|12381.28316610543|106.77447203703646|1492.779246502268|\n",
      "|    min|aldsj|              314|                 1|               23|\n",
      "|    max|suraj|            32420|               343|             4433|\n",
      "+-------+-----+-----------------+------------------+-----------------+\n",
      "\n"
     ]
    }
   ],
   "source": [
    "# GET SHORT SUMMORY ABOUT DATAFRAME\n",
    "\n",
    "dataframe.describe().show()"
   ]
  },
  {
   "cell_type": "code",
   "execution_count": 140,
   "id": "36f6d61e",
   "metadata": {},
   "outputs": [
    {
     "name": "stdout",
     "output_type": "stream",
     "text": [
      "+-------+-----+-------+-----+-----------------+\n",
      "|   name|  age|roll_no|marks|Age after 4 years|\n",
      "+-------+-----+-------+-----+-----------------+\n",
      "|  rohit|  322|      1|   90|              326|\n",
      "| rutuja| 4521|      2|  499|             4525|\n",
      "|rajveer|  314|    343| 1300|              318|\n",
      "|  suraj|32420|     64|  490|            32424|\n",
      "|  aldsj| null|     25| 4433|             null|\n",
      "|   null| null|     66|   89|             null|\n",
      "|  rohit| 2322|     21|   90|             2326|\n",
      "| rutuja|23421|    242| 3499|            23425|\n",
      "|rajveer| 3414|     33|  100|             3418|\n",
      "|  suraj|  463|     34|   90|              467|\n",
      "|  aldsj| null|      5|   33|             null|\n",
      "|   null| null|     44|   23|             null|\n",
      "+-------+-----+-------+-----+-----------------+\n",
      "\n"
     ]
    }
   ],
   "source": [
    "# ADDING NEW COLUMNS\n",
    "\n",
    "new_dataframe = dataframe.withColumn('Age after 4 years', dataframe['age']+4)\n",
    "\n",
    "new_dataframe.show()"
   ]
  },
  {
   "cell_type": "code",
   "execution_count": 141,
   "id": "054aaa8e",
   "metadata": {},
   "outputs": [
    {
     "name": "stdout",
     "output_type": "stream",
     "text": [
      "+-------+-----+-------+-----+\n",
      "|   name|  age|roll_no|marks|\n",
      "+-------+-----+-------+-----+\n",
      "|  rohit|  322|      1|   90|\n",
      "| rutuja| 4521|      2|  499|\n",
      "|rajveer|  314|    343| 1300|\n",
      "|  suraj|32420|     64|  490|\n",
      "|  aldsj| null|     25| 4433|\n",
      "|   null| null|     66|   89|\n",
      "|  rohit| 2322|     21|   90|\n",
      "| rutuja|23421|    242| 3499|\n",
      "|rajveer| 3414|     33|  100|\n",
      "|  suraj|  463|     34|   90|\n",
      "|  aldsj| null|      5|   33|\n",
      "|   null| null|     44|   23|\n",
      "+-------+-----+-------+-----+\n",
      "\n"
     ]
    }
   ],
   "source": [
    "# DROPPING COLUMNS\n",
    "\n",
    "new_dataframe = new_dataframe.drop('Age after 4 years')\n",
    "\n",
    "new_dataframe.show()"
   ]
  },
  {
   "cell_type": "code",
   "execution_count": 142,
   "id": "4edb01e3",
   "metadata": {},
   "outputs": [
    {
     "name": "stdout",
     "output_type": "stream",
     "text": [
      "+--------+-----+-------+-----+\n",
      "|New Name|  age|roll_no|marks|\n",
      "+--------+-----+-------+-----+\n",
      "|   rohit|  322|      1|   90|\n",
      "|  rutuja| 4521|      2|  499|\n",
      "| rajveer|  314|    343| 1300|\n",
      "|   suraj|32420|     64|  490|\n",
      "|   aldsj| null|     25| 4433|\n",
      "|    null| null|     66|   89|\n",
      "|   rohit| 2322|     21|   90|\n",
      "|  rutuja|23421|    242| 3499|\n",
      "| rajveer| 3414|     33|  100|\n",
      "|   suraj|  463|     34|   90|\n",
      "|   aldsj| null|      5|   33|\n",
      "|    null| null|     44|   23|\n",
      "+--------+-----+-------+-----+\n",
      "\n"
     ]
    }
   ],
   "source": [
    "# RENAME A PARTICULAR COLUMN\n",
    "\n",
    "new_dataframe.withColumnRenamed('name', 'New Name').show()"
   ]
  },
  {
   "cell_type": "markdown",
   "id": "aa3b9969",
   "metadata": {},
   "source": [
    "# DROPPING TABLES, ROWS WITH NULL VALUES"
   ]
  },
  {
   "cell_type": "code",
   "execution_count": 143,
   "id": "01871466",
   "metadata": {},
   "outputs": [
    {
     "name": "stdout",
     "output_type": "stream",
     "text": [
      "+-------+-----+-------+-----+\n",
      "|   name|  age|roll_no|marks|\n",
      "+-------+-----+-------+-----+\n",
      "|  rohit|  322|      1|   90|\n",
      "| rutuja| 4521|      2|  499|\n",
      "|rajveer|  314|    343| 1300|\n",
      "|  suraj|32420|     64|  490|\n",
      "|  rohit| 2322|     21|   90|\n",
      "| rutuja|23421|    242| 3499|\n",
      "|rajveer| 3414|     33|  100|\n",
      "|  suraj|  463|     34|   90|\n",
      "+-------+-----+-------+-----+\n",
      "\n"
     ]
    }
   ],
   "source": [
    "# DROP THE PERTICULAR ROWS HAVING NULL VALUE\n",
    "\n",
    "new_dataframe = new_dataframe.na.drop()\n",
    "\n",
    "new_dataframe.show()"
   ]
  },
  {
   "cell_type": "code",
   "execution_count": 144,
   "id": "4d831bca",
   "metadata": {},
   "outputs": [
    {
     "name": "stdout",
     "output_type": "stream",
     "text": [
      "+-------+-----+-------+-----+\n",
      "|   name|  age|roll_no|marks|\n",
      "+-------+-----+-------+-----+\n",
      "|  rohit|  322|      1|   90|\n",
      "| rutuja| 4521|      2|  499|\n",
      "|rajveer|  314|    343| 1300|\n",
      "|  suraj|32420|     64|  490|\n",
      "|  rohit| 2322|     21|   90|\n",
      "| rutuja|23421|    242| 3499|\n",
      "|rajveer| 3414|     33|  100|\n",
      "|  suraj|  463|     34|   90|\n",
      "+-------+-----+-------+-----+\n",
      "\n"
     ]
    }
   ],
   "source": [
    "# DROPPING THE PARTICULAR TABLES WITH any==how\n",
    "\n",
    "# IT WILL DELETE ROW WITH ALL COLUMN HAVING NULL VALUE\n",
    "\n",
    "new_dataframe.na.drop(how=\"all\").show()"
   ]
  },
  {
   "cell_type": "code",
   "execution_count": 145,
   "id": "c5622530",
   "metadata": {},
   "outputs": [
    {
     "name": "stdout",
     "output_type": "stream",
     "text": [
      "+-------+-----+-------+-----+\n",
      "|   name|  age|roll_no|marks|\n",
      "+-------+-----+-------+-----+\n",
      "|  rohit|  322|      1|   90|\n",
      "| rutuja| 4521|      2|  499|\n",
      "|rajveer|  314|    343| 1300|\n",
      "|  suraj|32420|     64|  490|\n",
      "|  rohit| 2322|     21|   90|\n",
      "| rutuja|23421|    242| 3499|\n",
      "|rajveer| 3414|     33|  100|\n",
      "|  suraj|  463|     34|   90|\n",
      "+-------+-----+-------+-----+\n",
      "\n"
     ]
    }
   ],
   "source": [
    "# THRESH => ATLEAST THAT MANY VALUES ARE NOT NULL\n",
    "\n",
    "new_dataframe.na.drop(how=\"any\", thresh=3).show()"
   ]
  },
  {
   "cell_type": "code",
   "execution_count": 146,
   "id": "4ae184b4",
   "metadata": {},
   "outputs": [
    {
     "name": "stdout",
     "output_type": "stream",
     "text": [
      "+-------+-----+-------+-----+\n",
      "|   name|  age|roll_no|marks|\n",
      "+-------+-----+-------+-----+\n",
      "|  rohit|  322|      1|   90|\n",
      "| rutuja| 4521|      2|  499|\n",
      "|rajveer|  314|    343| 1300|\n",
      "|  suraj|32420|     64|  490|\n",
      "|  rohit| 2322|     21|   90|\n",
      "| rutuja|23421|    242| 3499|\n",
      "|rajveer| 3414|     33|  100|\n",
      "|  suraj|  463|     34|   90|\n",
      "+-------+-----+-------+-----+\n",
      "\n"
     ]
    }
   ],
   "source": [
    "# subset => DROP VALUES FOR A PERTICULAR COLUMN HAVING NULL VALUES\n",
    "\n",
    "new_dataframe.na.drop(how='any', subset=['age']).show()"
   ]
  },
  {
   "cell_type": "code",
   "execution_count": 147,
   "id": "b0fe8351",
   "metadata": {},
   "outputs": [
    {
     "name": "stdout",
     "output_type": "stream",
     "text": [
      "+-------+-----+-------+-----+\n",
      "|   name|  age|roll_no|marks|\n",
      "+-------+-----+-------+-----+\n",
      "|  rohit|  322|      1|   90|\n",
      "| rutuja| 4521|      2|  499|\n",
      "|rajveer|  314|    343| 1300|\n",
      "|  suraj|32420|     64|  490|\n",
      "|  rohit| 2322|     21|   90|\n",
      "| rutuja|23421|    242| 3499|\n",
      "|rajveer| 3414|     33|  100|\n",
      "|  suraj|  463|     34|   90|\n",
      "+-------+-----+-------+-----+\n",
      "\n"
     ]
    }
   ],
   "source": [
    "# FILLING THE NULL VALUES / MISSING VALUES\n",
    "\n",
    "# new_dataframe.na.fill(22, 'age').show()\n",
    "new_dataframe.na.fill('xyz', ['name','age']).show()"
   ]
  },
  {
   "cell_type": "code",
   "execution_count": 148,
   "id": "f83d73ca",
   "metadata": {},
   "outputs": [
    {
     "name": "stdout",
     "output_type": "stream",
     "text": [
      "+-------+-----+-------+-----+\n",
      "|   name|  age|roll_no|marks|\n",
      "+-------+-----+-------+-----+\n",
      "|  rohit|  322|      1|   90|\n",
      "| rutuja| 4521|      2|  499|\n",
      "|rajveer|  314|    343| 1300|\n",
      "|  suraj|32420|     64|  490|\n",
      "|  rohit| 2322|     21|   90|\n",
      "| rutuja|23421|    242| 3499|\n",
      "|rajveer| 3414|     33|  100|\n",
      "|  suraj|  463|     34|   90|\n",
      "+-------+-----+-------+-----+\n",
      "\n"
     ]
    }
   ],
   "source": [
    "df = new_dataframe.na.drop()\n",
    "df.show()"
   ]
  },
  {
   "cell_type": "markdown",
   "id": "46e0d0af",
   "metadata": {},
   "source": [
    "# FILTERING OPERATION"
   ]
  },
  {
   "cell_type": "code",
   "execution_count": 149,
   "id": "a0cf58fa",
   "metadata": {},
   "outputs": [
    {
     "name": "stdout",
     "output_type": "stream",
     "text": [
      "+-------+-----+-------+-----+\n",
      "|   name|  age|roll_no|marks|\n",
      "+-------+-----+-------+-----+\n",
      "|  rohit|  322|      1|   90|\n",
      "| rutuja| 4521|      2|  499|\n",
      "|rajveer|  314|    343| 1300|\n",
      "|  suraj|32420|     64|  490|\n",
      "|  rohit| 2322|     21|   90|\n",
      "| rutuja|23421|    242| 3499|\n",
      "|rajveer| 3414|     33|  100|\n",
      "|  suraj|  463|     34|   90|\n",
      "+-------+-----+-------+-----+\n",
      "\n"
     ]
    }
   ],
   "source": [
    "# FILTER OPERATION\n",
    "\n",
    "df.filter(\"age>20\").show()"
   ]
  },
  {
   "cell_type": "code",
   "execution_count": 150,
   "id": "778d9749",
   "metadata": {},
   "outputs": [
    {
     "name": "stdout",
     "output_type": "stream",
     "text": [
      "+-------+-----+\n",
      "|   name|  age|\n",
      "+-------+-----+\n",
      "|  rohit|  322|\n",
      "| rutuja| 4521|\n",
      "|rajveer|  314|\n",
      "|  suraj|32420|\n",
      "|  rohit| 2322|\n",
      "| rutuja|23421|\n",
      "|rajveer| 3414|\n",
      "|  suraj|  463|\n",
      "+-------+-----+\n",
      "\n"
     ]
    }
   ],
   "source": [
    "# SELECT PERTICULAR COLUMNS AFTER FILTERING\n",
    "\n",
    "df.filter('age>20').select(['name', 'age']).show()"
   ]
  },
  {
   "cell_type": "code",
   "execution_count": 151,
   "id": "8c2e34a0",
   "metadata": {},
   "outputs": [
    {
     "name": "stdout",
     "output_type": "stream",
     "text": [
      "+-------+-----+-------+-----+\n",
      "|   name|  age|roll_no|marks|\n",
      "+-------+-----+-------+-----+\n",
      "|  rohit|  322|      1|   90|\n",
      "| rutuja| 4521|      2|  499|\n",
      "|rajveer|  314|    343| 1300|\n",
      "|  suraj|32420|     64|  490|\n",
      "|  rohit| 2322|     21|   90|\n",
      "| rutuja|23421|    242| 3499|\n",
      "|rajveer| 3414|     33|  100|\n",
      "|  suraj|  463|     34|   90|\n",
      "+-------+-----+-------+-----+\n",
      "\n"
     ]
    }
   ],
   "source": [
    "df.filter(df['age']>20).show()"
   ]
  },
  {
   "cell_type": "code",
   "execution_count": 152,
   "id": "b76215ab",
   "metadata": {},
   "outputs": [
    {
     "name": "stdout",
     "output_type": "stream",
     "text": [
      "+-------+-----+-------+-----+\n",
      "|   name|  age|roll_no|marks|\n",
      "+-------+-----+-------+-----+\n",
      "| rutuja| 4521|      2|  499|\n",
      "|rajveer|  314|    343| 1300|\n",
      "|  suraj|32420|     64|  490|\n",
      "| rutuja|23421|    242| 3499|\n",
      "|rajveer| 3414|     33|  100|\n",
      "+-------+-----+-------+-----+\n",
      "\n"
     ]
    }
   ],
   "source": [
    "df.filter((df['age']>20) & (df['marks']>90)).show()"
   ]
  },
  {
   "cell_type": "code",
   "execution_count": 156,
   "id": "a7f84ba3",
   "metadata": {},
   "outputs": [
    {
     "name": "stdout",
     "output_type": "stream",
     "text": [
      "+-------+---+-------+-----+\n",
      "|   name|age|roll_no|marks|\n",
      "+-------+---+-------+-----+\n",
      "|  rohit|322|      1|   90|\n",
      "|rajveer|314|    343| 1300|\n",
      "|  suraj|463|     34|   90|\n",
      "+-------+---+-------+-----+\n",
      "\n"
     ]
    }
   ],
   "source": [
    "df.filter(~(df['age']>2000)).show()"
   ]
  },
  {
   "cell_type": "markdown",
   "id": "791c992a",
   "metadata": {},
   "source": [
    "# GROUP BY AND AGGREGATE FUNCTIONS"
   ]
  },
  {
   "cell_type": "code",
   "execution_count": 159,
   "id": "a63b9962",
   "metadata": {},
   "outputs": [
    {
     "name": "stdout",
     "output_type": "stream",
     "text": [
      "+-------+--------+------------+----------+\n",
      "|   name|max(age)|max(roll_no)|max(marks)|\n",
      "+-------+--------+------------+----------+\n",
      "|rajveer|    3414|         343|      1300|\n",
      "|  rohit|    2322|          21|        90|\n",
      "|  suraj|   32420|          64|       490|\n",
      "| rutuja|   23421|         242|      3499|\n",
      "+-------+--------+------------+----------+\n",
      "\n"
     ]
    }
   ],
   "source": [
    "'''\n",
    "min, max, sum, avg, mean, etc.\n",
    "    \n",
    "'''\n",
    "\n",
    "df.groupBy('name').max().show()"
   ]
  },
  {
   "cell_type": "code",
   "execution_count": 157,
   "id": "14d0bb0a",
   "metadata": {},
   "outputs": [
    {
     "name": "stdout",
     "output_type": "stream",
     "text": [
      "+-------+--------+------------+----------+\n",
      "|   name|sum(age)|sum(roll_no)|sum(marks)|\n",
      "+-------+--------+------------+----------+\n",
      "|rajveer|    3728|         376|      1400|\n",
      "|  rohit|    2644|          22|       180|\n",
      "|  suraj|   32883|          98|       580|\n",
      "| rutuja|   27942|         244|      3998|\n",
      "+-------+--------+------------+----------+\n",
      "\n"
     ]
    }
   ],
   "source": [
    "df.groupBy('name').sum().show()"
   ]
  },
  {
   "cell_type": "code",
   "execution_count": 158,
   "id": "02eed9c7",
   "metadata": {},
   "outputs": [
    {
     "name": "stdout",
     "output_type": "stream",
     "text": [
      "+-----+--------+------------+----------+\n",
      "|  age|avg(age)|avg(roll_no)|avg(marks)|\n",
      "+-----+--------+------------+----------+\n",
      "|  463|   463.0|        34.0|      90.0|\n",
      "|  322|   322.0|         1.0|      90.0|\n",
      "|23421| 23421.0|       242.0|    3499.0|\n",
      "| 2322|  2322.0|        21.0|      90.0|\n",
      "| 4521|  4521.0|         2.0|     499.0|\n",
      "|  314|   314.0|       343.0|    1300.0|\n",
      "| 3414|  3414.0|        33.0|     100.0|\n",
      "|32420| 32420.0|        64.0|     490.0|\n",
      "+-----+--------+------------+----------+\n",
      "\n"
     ]
    }
   ],
   "source": [
    "df.groupBy('age').avg().show()"
   ]
  },
  {
   "cell_type": "code",
   "execution_count": null,
   "id": "42e1a800",
   "metadata": {},
   "outputs": [],
   "source": []
  },
  {
   "cell_type": "code",
   "execution_count": null,
   "id": "b38d4ca9",
   "metadata": {},
   "outputs": [],
   "source": []
  },
  {
   "cell_type": "code",
   "execution_count": null,
   "id": "a4769ff7",
   "metadata": {},
   "outputs": [],
   "source": []
  },
  {
   "cell_type": "code",
   "execution_count": null,
   "id": "bda63e0c",
   "metadata": {},
   "outputs": [],
   "source": []
  },
  {
   "cell_type": "code",
   "execution_count": null,
   "id": "4dbd30de",
   "metadata": {},
   "outputs": [],
   "source": []
  }
 ],
 "metadata": {
  "kernelspec": {
   "display_name": "Python 3 (ipykernel)",
   "language": "python",
   "name": "python3"
  },
  "language_info": {
   "codemirror_mode": {
    "name": "ipython",
    "version": 3
   },
   "file_extension": ".py",
   "mimetype": "text/x-python",
   "name": "python",
   "nbconvert_exporter": "python",
   "pygments_lexer": "ipython3",
   "version": "3.10.5"
  }
 },
 "nbformat": 4,
 "nbformat_minor": 5
}
